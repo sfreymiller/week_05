{
 "cells": [
  {
   "cell_type": "markdown",
   "metadata": {},
   "source": [
    "### OpenWeatherMap\n",
    "Free Weather API\n",
    "\n",
    "https://openweathermap.org/\n",
    "#### Create account\n",
    "1. Create your account. \n",
    "2. Generate API Key.\n",
    "3. Create a file called `api_keys.py`\n",
    "    - add a variable `api_key = 'YOUR API KEY HERE'`\n",
    "4. Save API key.\n",
    "5. Add .gitignore file\n",
    "    - add a line `api_keys.py` to the file"
   ]
  },
  {
   "cell_type": "code",
   "execution_count": 44,
   "metadata": {},
   "outputs": [
    {
     "name": "stdout",
     "output_type": "stream",
     "text": [
      "487cf\n"
     ]
    }
   ],
   "source": [
    "from api_keys import api_key\n",
    "\n",
    "# you imported a variable name api_key\n",
    "# keys should be kept safe! \n",
    "print(api_key[:5])"
   ]
  },
  {
   "cell_type": "code",
   "execution_count": 2,
   "metadata": {},
   "outputs": [],
   "source": [
    "# Pip install these if you do not have them installed\n",
    "import requests, citipy\n",
    "from pprint import pprint"
   ]
  },
  {
   "cell_type": "markdown",
   "metadata": {},
   "source": [
    "[Anatomy of a URL](https://doepud.co.uk/blog/anatomy-of-a-url)"
   ]
  },
  {
   "cell_type": "code",
   "execution_count": 6,
   "metadata": {},
   "outputs": [
    {
     "name": "stdout",
     "output_type": "stream",
     "text": [
      "<!doctype html>\n",
      "<html>\n",
      "<head>\n",
      "    <title>Example Domain</title>\n",
      "\n",
      "    <meta charset=\"utf-8\" />\n",
      "    <meta http-equiv=\"Content-type\" content=\"text/html; charset=utf-8\" />\n",
      "    <meta name=\"viewport\" content=\"width=device-width, initial-scale=1\" />\n",
      "    <style type=\"text/css\">\n",
      "    body {\n",
      "        background-color: #f0f0f2;\n",
      "        margin: 0;\n",
      "        padding: 0;\n",
      "        font-family: -apple-system, system-ui, BlinkMacSystemFont, \"Segoe UI\", \"Open Sans\", \"Helvetica Neue\", Helvetica, Arial, sans-serif;\n",
      "        \n",
      "    }\n",
      "    div {\n",
      "        width: 600px;\n",
      "        margin: 5em auto;\n",
      "        padding: 2em;\n",
      "        background-color: #fdfdff;\n",
      "        border-radius: 0.5em;\n",
      "        box-shadow: 2px 3px 7px 2px rgba(0,0,0,0.02);\n",
      "    }\n",
      "    a:link, a:visited {\n",
      "        color: #38488f;\n",
      "        text-decoration: none;\n",
      "    }\n",
      "    @media (max-width: 700px) {\n",
      "        div {\n",
      "            margin: 0 auto;\n",
      "            width: auto;\n",
      "        }\n",
      "    }\n",
      "    </style>    \n",
      "</head>\n",
      "\n",
      "<body>\n",
      "<div>\n",
      "    <h1>Example Domain</h1>\n",
      "    <p>This domain is for use in illustrative examples in documents. You may use this\n",
      "    domain in literature without prior coordination or asking for permission.</p>\n",
      "    <p><a href=\"https://www.iana.org/domains/example\">More information...</a></p>\n",
      "</div>\n",
      "</body>\n",
      "</html>\n",
      "\n"
     ]
    }
   ],
   "source": [
    "url = 'http://www.example.com'\n",
    "\n",
    "# Very popular and great example of good python library\n",
    "req = requests.get(url)\n",
    "\n",
    "# dir(req)\n",
    "dir(req)\n",
    "print(req.text)\n",
    "\n",
    "# gives html\n",
    "# This is how web-scraping is done. and it does look scraped!\n",
    "#OMG THIS IS SO COOL\n"
   ]
  },
  {
   "cell_type": "code",
   "execution_count": 13,
   "metadata": {},
   "outputs": [
    {
     "name": "stdout",
     "output_type": "stream",
     "text": [
      "{\"coord\":{\"lon\":-90.2,\"lat\":38.63},\"weather\":[{\"id\":800,\"main\":\"Clear\",\"description\":\"clear sky\",\"icon\":\"01d\"}],\"base\":\"stations\",\"main\":{\"temp\":68.88,\"feels_like\":62.44,\"temp_min\":66,\"temp_max\":71.6,\"pressure\":1024,\"humidity\":37},\"visibility\":10000,\"wind\":{\"speed\":8.05,\"deg\":50},\"clouds\":{\"all\":1},\"dt\":1600472077,\"sys\":{\"type\":1,\"id\":3689,\"country\":\"US\",\"sunrise\":1600429527,\"sunset\":1600473850},\"timezone\":-18000,\"id\":4407066,\"name\":\"St Louis\",\"cod\":200}\n"
     ]
    }
   ],
   "source": [
    "# get weather data for saint louis\n",
    "\n",
    "# base url for all requests. We can change the city to find data for different cities\n",
    "base_url = \"http://api.openweathermap.org/data/2.5/weather?units=Imperial&APPID=\" + api_key\n",
    "city = 'saint louis'\n",
    "\n",
    "# f-strings to the rescue!\n",
    "req = requests.get(base_url + f'&q={city}')\n",
    "\n",
    "# get req text\n",
    "print(req.text)\n",
    "# generates a string of data"
   ]
  },
  {
   "cell_type": "code",
   "execution_count": 14,
   "metadata": {},
   "outputs": [
    {
     "name": "stdout",
     "output_type": "stream",
     "text": [
      "<class 'dict'>\n",
      "{'coord': {'lon': -90.2, 'lat': 38.63}, 'weather': [{'id': 800, 'main': 'Clear', 'description': 'clear sky', 'icon': '01d'}], 'base': 'stations', 'main': {'temp': 68.88, 'feels_like': 62.44, 'temp_min': 66, 'temp_max': 71.6, 'pressure': 1024, 'humidity': 37}, 'visibility': 10000, 'wind': {'speed': 8.05, 'deg': 50}, 'clouds': {'all': 1}, 'dt': 1600472077, 'sys': {'type': 1, 'id': 3689, 'country': 'US', 'sunrise': 1600429527, 'sunset': 1600473850}, 'timezone': -18000, 'id': 4407066, 'name': 'St Louis', 'cod': 200}\n"
     ]
    }
   ],
   "source": [
    "# parsing a string to extract the data is a pain! \n",
    "# Let's get something more useful.\n",
    "\n",
    "#turn into json/dict format\n",
    "json_data = req.json()\n",
    "print(type(json_data))\n",
    "print(json_data)"
   ]
  },
  {
   "cell_type": "code",
   "execution_count": 15,
   "metadata": {},
   "outputs": [
    {
     "name": "stdout",
     "output_type": "stream",
     "text": [
      "{'base': 'stations',\n",
      " 'clouds': {'all': 1},\n",
      " 'cod': 200,\n",
      " 'coord': {'lat': 38.63, 'lon': -90.2},\n",
      " 'dt': 1600472077,\n",
      " 'id': 4407066,\n",
      " 'main': {'feels_like': 62.44,\n",
      "          'humidity': 37,\n",
      "          'pressure': 1024,\n",
      "          'temp': 68.88,\n",
      "          'temp_max': 71.6,\n",
      "          'temp_min': 66},\n",
      " 'name': 'St Louis',\n",
      " 'sys': {'country': 'US',\n",
      "         'id': 3689,\n",
      "         'sunrise': 1600429527,\n",
      "         'sunset': 1600473850,\n",
      "         'type': 1},\n",
      " 'timezone': -18000,\n",
      " 'visibility': 10000,\n",
      " 'weather': [{'description': 'clear sky',\n",
      "              'icon': '01d',\n",
      "              'id': 800,\n",
      "              'main': 'Clear'}],\n",
      " 'wind': {'deg': 50, 'speed': 8.05}}\n"
     ]
    }
   ],
   "source": [
    "# Hmm.... still hard to read. \n",
    "# Let's pretty print it! \n",
    "pprint(json_data)\n",
    "# Much easier to read! WOW"
   ]
  },
  {
   "cell_type": "code",
   "execution_count": 39,
   "metadata": {},
   "outputs": [
    {
     "name": "stdout",
     "output_type": "stream",
     "text": [
      "coord\n",
      "weather\n",
      "base\n",
      "main\n",
      "visibility\n",
      "wind\n",
      "clouds\n",
      "dt\n",
      "sys\n",
      "timezone\n",
      "id\n",
      "name\n",
      "cod\n",
      "{'speed': 8.05, 'deg': 50}\n",
      "8.05\n"
     ]
    }
   ],
   "source": [
    "# Access data by traversing the dictionary. \n",
    "# Use dictionary access and list access methods\n",
    "for i in json_data:\n",
    "    print(i)\n",
    "\n",
    "# access wind info\n",
    "print(json_data['wind'])\n",
    "#access wind speed\n",
    "print(json_data['wind']['speed'])"
   ]
  },
  {
   "cell_type": "code",
   "execution_count": 46,
   "metadata": {},
   "outputs": [
    {
     "name": "stdout",
     "output_type": "stream",
     "text": [
      "clear sky\n"
     ]
    }
   ],
   "source": [
    "# Lists can also be used in JSON/dicts\n",
    "# access weather description\n",
    "print(json_data['weather'][0]['description'])\n",
    "\n",
    "# how do I access a dictionary within a list within a dictionary? urgh\n",
    "# I can call a key, then an index or slice, then a key"
   ]
  },
  {
   "cell_type": "markdown",
   "metadata": {},
   "source": [
    "#### Final Thoughts:\n",
    "1. APIs limit requests. Especially free ones. \n",
    "2. If you run out of requests you will have to wait until more are allowed. \n",
    "3. For the homework: Run small batches of requests until you get good code. Then run all requests. \n",
    "4. Avoid unecessarily running the code to make API calls once it's working. \n",
    "5. API calls can be notoriously slow! \n",
    "6. This HW is a gread candiate for your portfolio! Start early and make it awesome! "
   ]
  },
  {
   "cell_type": "markdown",
   "metadata": {},
   "source": [
    "https://restfulapi.net/http-methods/"
   ]
  },
  {
   "cell_type": "code",
   "execution_count": null,
   "metadata": {},
   "outputs": [],
   "source": [
    "# Time permitting:\n",
    "# Create a list of cities\n",
    "# Create data structure to hold data points (at least 2)\n",
    "# Loop over list of cities and add data to data structure\n",
    "# convert to DataFrame"
   ]
  }
 ],
 "metadata": {
  "kernelspec": {
   "display_name": "Python 3",
   "language": "python",
   "name": "python3"
  },
  "language_info": {
   "codemirror_mode": {
    "name": "ipython",
    "version": 3
   },
   "file_extension": ".py",
   "mimetype": "text/x-python",
   "name": "python",
   "nbconvert_exporter": "python",
   "pygments_lexer": "ipython3",
   "version": "3.8.1"
  }
 },
 "nbformat": 4,
 "nbformat_minor": 4
}
